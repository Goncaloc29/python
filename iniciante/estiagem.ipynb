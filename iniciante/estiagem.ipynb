{
 "cells": [
  {
   "cell_type": "code",
   "execution_count": 116,
   "metadata": {},
   "outputs": [],
   "source": [
    "def formatar_output(ordenar_lista):\n",
    "    resultado = \"\"\n",
    "\n",
    "    for tupla in ordenar_lista:\n",
    "        x = str(tupla[0])\n",
    "        y = str(tupla[1])\n",
    "        resultado += x + \"-\" + y + \" \"\n",
    "\n",
    "    return resultado.rstrip()"
   ]
  },
  {
   "cell_type": "code",
   "execution_count": 117,
   "metadata": {},
   "outputs": [],
   "source": [
    "def consumo_medio_total(valores):\n",
    "\n",
    "    total_habitantes = 0\n",
    "    total_litros = 0\n",
    "\n",
    "    for tupla in valores:\n",
    "        total_habitantes += tupla[0]\n",
    "        total_litros += tupla[1]\n",
    "\n",
    "    return total_litros / total_habitantes"
   ]
  },
  {
   "cell_type": "code",
   "execution_count": 118,
   "metadata": {},
   "outputs": [],
   "source": [
    "def consumo_medio(valores):\n",
    "    consumo_medio_atualizado = []\n",
    "    for tupla in valores:\n",
    "        media = int(tupla[1] / tupla[0])\n",
    "        nova_tupla = (tupla[0], media)\n",
    "        consumo_medio_atualizado.append(nova_tupla)\n",
    "        \n",
    "    lista_ordenada = sorted(consumo_medio_atualizado, key=lambda x: x[1])\n",
    "    return lista_ordenada\n"
   ]
  },
  {
   "cell_type": "code",
   "execution_count": 119,
   "metadata": {},
   "outputs": [
    {
     "name": "stdout",
     "output_type": "stream",
     "text": [
      "Cidade# 1:\n",
      "12-0\n",
      "Consumo medio: 0.17 m3.\n",
      "\n",
      "Cidade# 2:\n",
      "19-0\n",
      "Consumo medio: 0.21 m3.\n",
      "\n"
     ]
    }
   ],
   "source": [
    "cidade = 0\n",
    "n = 1\n",
    "\n",
    "while True:\n",
    "\n",
    "    n = int(input(\"\"))\n",
    "\n",
    "    if n == 0:\n",
    "        break\n",
    "\n",
    "    elif n < 0 or n > 1000000:\n",
    "        raise ValueError()\n",
    "\n",
    "    i = 0\n",
    "    valores = []\n",
    "\n",
    "    while i < n:\n",
    "        entrada = input(\"\").split()\n",
    "        quantidade_moradores = int(entrada[0])\n",
    "        consumo_total = int(entrada[1])\n",
    "        valores.append((quantidade_moradores, consumo_total))\n",
    "        i += 1\n",
    "    \n",
    "    cidade += 1\n",
    "\n",
    "    ordenar_lista = (consumo_medio(valores))\n",
    "\n",
    "    print(f\"Cidade# {cidade}:\")\n",
    "    print(formatar_output(ordenar_lista))\n",
    "    print(\"Consumo medio: {:.2f} m3.\".format(consumo_medio_total(valores)))\n",
    "    print()\n",
    "\n"
   ]
  }
 ],
 "metadata": {
  "kernelspec": {
   "display_name": "Python 3",
   "language": "python",
   "name": "python3"
  },
  "language_info": {
   "codemirror_mode": {
    "name": "ipython",
    "version": 3
   },
   "file_extension": ".py",
   "mimetype": "text/x-python",
   "name": "python",
   "nbconvert_exporter": "python",
   "pygments_lexer": "ipython3",
   "version": "3.9.5"
  },
  "orig_nbformat": 4
 },
 "nbformat": 4,
 "nbformat_minor": 2
}
