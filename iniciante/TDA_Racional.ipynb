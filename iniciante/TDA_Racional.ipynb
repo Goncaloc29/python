{
 "cells": [
  {
   "attachments": {},
   "cell_type": "markdown",
   "metadata": {},
   "source": [
    "# TDA Racional\n",
    "\n",
    "## beecrowd | 1022\n",
    "\n",
    "A tarefa aqui neste problema é ler uma expressão matemática na forma de dois números Racionais (numerador / denominador) e apresentar o resultado da operação. Cada operando ou operador é separado por um espaço em branco. A sequência de cada linha que contém a expressão a ser lida é: número, caractere, número, caractere, número, caractere, número. A resposta deverá ser apresentada e posteriormente simplificada. Deverá então ser apresentado o sinal de igualdade e em seguida a resposta simplificada. No caso de não ser possível uma simplificação, deve ser apresentada a mesma resposta após o sinal de igualdade.\n",
    "\n",
    "Considerando N1 e D1 como numerador e denominador da primeira fração, segue a orientação de como deverá ser realizada cada uma das operações:\n",
    "Soma: (N1*D2 + N2*D1) / (D1*D2)\n",
    "Subtração: (N1*D2 - N2*D1) / (D1*D2)\n",
    "Multiplicação: (N1*N2) / (D1*D2)\n",
    "Divisão: (N1/D1) / (N2/D2), ou seja (N1*D2)/(N2*D1)\n",
    "Entrada\n",
    "A entrada contem vários casos de teste. A primeira linha de cada caso de teste contem um inteiro N (1 ≤ N ≤ 1*104), indicando a quantidade de casos de teste que devem ser lidos logo a seguir. Cada caso de teste contém um valor racional X (1 ≤ X ≤ 1000), uma operação (-, +, * ou /) e outro valor racional Y (1 ≤ Y ≤ 1000).\n",
    "Saída\n",
    "A saída consiste em um valor racional, seguido de um sinal de igualdade e outro valor racional, que é a simplificação do primeiro valor. No caso do primeiro valor não poder ser simplificado, o mesmo deve ser repetido após o sinal de igualdade."
   ]
  },
  {
   "cell_type": "code",
   "execution_count": 211,
   "metadata": {},
   "outputs": [],
   "source": [
    "from fractions import Fraction"
   ]
  },
  {
   "cell_type": "code",
   "execution_count": 212,
   "metadata": {},
   "outputs": [],
   "source": [
    "def recebe_valores(elementos):\n",
    "    n1 = int(elementos[0]) \n",
    "    d1 = int(elementos[2])\n",
    "    n2 = int(elementos[4])\n",
    "    d2 = int(elementos[6])\n",
    "    return n1, d1, n2, d2"
   ]
  },
  {
   "cell_type": "code",
   "execution_count": 213,
   "metadata": {},
   "outputs": [],
   "source": [
    "def divisao(elementos):\n",
    "    n1, d1, n2, d2 = recebe_valores(elementos)\n",
    "    numerador = (n1*d2)\n",
    "    denominador = (n2*d1)\n",
    "    return (numerador, denominador)"
   ]
  },
  {
   "cell_type": "code",
   "execution_count": 214,
   "metadata": {},
   "outputs": [],
   "source": [
    "def multiplicacao(elementos):\n",
    "    n1, d1, n2, d2 = recebe_valores(elementos)\n",
    "    numerador = (n1*n2)\n",
    "    denominador = (d1*d2)\n",
    "    return (numerador, denominador)"
   ]
  },
  {
   "cell_type": "code",
   "execution_count": 215,
   "metadata": {},
   "outputs": [],
   "source": [
    "def soma(elementos):\n",
    "    n1, d1, n2, d2 = recebe_valores(elementos)\n",
    "    numerador = (n1*d2+n2*d1)\n",
    "    denominador = (d1*d2)\n",
    "    return (numerador, denominador)"
   ]
  },
  {
   "cell_type": "code",
   "execution_count": 216,
   "metadata": {},
   "outputs": [],
   "source": [
    "def subtracao(elementos):\n",
    "    n1, d1, n2, d2 = recebe_valores(elementos)\n",
    "    numerador = (n1*d2-n2*d1)\n",
    "    denominador = (d1*d2)\n",
    "    return (numerador, denominador)"
   ]
  },
  {
   "cell_type": "code",
   "execution_count": 217,
   "metadata": {},
   "outputs": [],
   "source": [
    "def controlo_de_entrada(entrada_utilizador):\n",
    "    elementos = entrada_utilizador.split(' ')\n",
    "    elementos_len = len(elementos) - 1\n",
    "    if elementos_len >= 7 or elementos_len < 0:\n",
    "        raise ValueError(\"Demasiados elementos!!!\")\n",
    "    elif elementos[1] and elementos[5] != \"/\":\n",
    "        raise ValueError(\"Formatação errada!!!\")\n",
    "    elif not elementos[0].isdigit() or not elementos[2].isdigit() or not elementos[4].isdigit() or not elementos[6].isdigit():\n",
    "        raise ValueError(\"Os elementos nas posições 0, 2 e 4 da lista devem ser números.\")\n",
    "    elif elementos[3] == \"-\":\n",
    "        numerador, denominador = subtracao(elementos)\n",
    "        print(\"{}/{} = {}\".format(numerador, denominador, Fraction(numerador, denominador)))\n",
    "    elif elementos[3] == \"+\":\n",
    "        numerador, denominador = soma(elementos)\n",
    "        print(\"{}/{} = {}\".format(numerador, denominador, Fraction(numerador, denominador)))\n",
    "    elif elementos[3] == \"*\":\n",
    "        numerador, denominador = multiplicacao(elementos)\n",
    "        print(\"{}/{} = {}\".format(numerador, denominador, Fraction(numerador, denominador)))\n",
    "    elif elementos[3] == \"/\":\n",
    "        numerador, denominador = divisao(elementos)\n",
    "        print(\"{}/{} = {}\".format(numerador, denominador, Fraction(numerador, denominador)))\n"
   ]
  },
  {
   "cell_type": "code",
   "execution_count": 218,
   "metadata": {},
   "outputs": [
    {
     "name": "stdout",
     "output_type": "stream",
     "text": [
      "1\n"
     ]
    }
   ],
   "source": [
    "quantidade = int(input(\"Quantas expressões pretende introduzir? \"))\n",
    "print(quantidade)"
   ]
  },
  {
   "cell_type": "code",
   "execution_count": 221,
   "metadata": {},
   "outputs": [
    {
     "name": "stdout",
     "output_type": "stream",
     "text": [
      "6/4 = 3/2\n"
     ]
    }
   ],
   "source": [
    "for i in range(quantidade):\n",
    "    entrada_utilizador = input(f\"introduza a {i} expressão: \")\n",
    "    controlo_de_entrada(entrada_utilizador)"
   ]
  },
  {
   "cell_type": "code",
   "execution_count": null,
   "metadata": {},
   "outputs": [],
   "source": []
  }
 ],
 "metadata": {
  "kernelspec": {
   "display_name": "Python 3",
   "language": "python",
   "name": "python3"
  },
  "language_info": {
   "codemirror_mode": {
    "name": "ipython",
    "version": 3
   },
   "file_extension": ".py",
   "mimetype": "text/x-python",
   "name": "python",
   "nbconvert_exporter": "python",
   "pygments_lexer": "ipython3",
   "version": "3.9.5"
  },
  "orig_nbformat": 4
 },
 "nbformat": 4,
 "nbformat_minor": 2
}
