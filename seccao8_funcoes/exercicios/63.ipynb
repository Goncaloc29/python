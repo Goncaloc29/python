{
 "cells": [
  {
   "attachments": {},
   "cell_type": "markdown",
   "metadata": {},
   "source": [
    "# Matriz Identidade\n",
    "\n",
    "Faça uma função que verifica se uma matriz quadrada de ordem Né a matriz identidade."
   ]
  },
  {
   "cell_type": "code",
   "execution_count": 17,
   "metadata": {},
   "outputs": [],
   "source": [
    "import numpy as np"
   ]
  },
  {
   "cell_type": "code",
   "execution_count": 18,
   "metadata": {},
   "outputs": [],
   "source": [
    "def verifica_identidade(matriz):\n",
    "    # Verifica se a matriz é quadrada\n",
    "    if matriz.shape[0] != matriz.shape[1]:\n",
    "        return False\n",
    "    # Cria uma matriz identidade com o mesmo tamanho da matriz de entrada\n",
    "    identidade = np.identity(matriz.shape[0])\n",
    "\n",
    "    # Compara as duas matrizes elemento por elemento\n",
    "    return np.array_equal(matriz, identidade)"
   ]
  },
  {
   "cell_type": "code",
   "execution_count": 23,
   "metadata": {},
   "outputs": [
    {
     "name": "stdout",
     "output_type": "stream",
     "text": [
      "2\n"
     ]
    }
   ],
   "source": [
    "n = int(input(\"Introduza o valor de N: \"))\n",
    "print(n)"
   ]
  },
  {
   "cell_type": "code",
   "execution_count": 34,
   "metadata": {},
   "outputs": [
    {
     "name": "stdout",
     "output_type": "stream",
     "text": [
      "[[1 0]\n",
      " [0 1]]\n"
     ]
    },
    {
     "data": {
      "text/plain": [
       "' matriz = np.array([[1, 0, 0], [0, 1, 0], [0, 0, 1]]) '"
      ]
     },
     "execution_count": 34,
     "metadata": {},
     "output_type": "execute_result"
    }
   ],
   "source": [
    "matriz = np.random.randint(2, size=(n, n))\n",
    "print(matriz)\n",
    "# Matriz identidade para testar o return\n",
    "\"\"\" matriz = np.array([[1, 0, 0], [0, 1, 0], [0, 0, 1]]) \"\"\""
   ]
  },
  {
   "cell_type": "code",
   "execution_count": 35,
   "metadata": {},
   "outputs": [
    {
     "name": "stdout",
     "output_type": "stream",
     "text": [
      "A matriz é uma matriz identidade\n"
     ]
    }
   ],
   "source": [
    "if verifica_identidade(matriz):\n",
    "    print(\"A matriz é uma matriz identidade\")\n",
    "else:\n",
    "    print(\"A matriz não é uma matriz identidade\")"
   ]
  }
 ],
 "metadata": {
  "kernelspec": {
   "display_name": "Python 3",
   "language": "python",
   "name": "python3"
  },
  "language_info": {
   "codemirror_mode": {
    "name": "ipython",
    "version": 3
   },
   "file_extension": ".py",
   "mimetype": "text/x-python",
   "name": "python",
   "nbconvert_exporter": "python",
   "pygments_lexer": "ipython3",
   "version": "3.9.5"
  },
  "orig_nbformat": 4
 },
 "nbformat": 4,
 "nbformat_minor": 2
}
