{
 "cells": [
  {
   "attachments": {},
   "cell_type": "markdown",
   "metadata": {},
   "source": [
    "# Desvio Padrão\n",
    "\n",
    "Faça uma função que calcule o desvio padrão de um vetor v contendo n números."
   ]
  },
  {
   "cell_type": "code",
   "execution_count": 29,
   "metadata": {},
   "outputs": [],
   "source": [
    "import statistics"
   ]
  },
  {
   "cell_type": "code",
   "execution_count": 30,
   "metadata": {},
   "outputs": [],
   "source": [
    "def desvio_padrao(vetor):\n",
    "    desvio = statistics.stdev(vetor)\n",
    "    return \"Desvio Padrão da amostra é: {:.2f}\".format(desvio)"
   ]
  },
  {
   "cell_type": "code",
   "execution_count": 31,
   "metadata": {},
   "outputs": [
    {
     "name": "stdout",
     "output_type": "stream",
     "text": [
      "[10.0, 12.0, 45.0, 78.0, 45.0, 78.0, 84.0]\n",
      "<class 'list'>\n"
     ]
    }
   ],
   "source": [
    "vetor = list(map(float, input(\"Digite os valores separados por espaço: \").split()))\n",
    "\n",
    "print(vetor)\n",
    "print(type(vetor))"
   ]
  },
  {
   "cell_type": "code",
   "execution_count": 32,
   "metadata": {},
   "outputs": [
    {
     "name": "stdout",
     "output_type": "stream",
     "text": [
      "Desvio Padrão da amostra é: 31.14\n"
     ]
    }
   ],
   "source": [
    "print(desvio_padrao(vetor))"
   ]
  }
 ],
 "metadata": {
  "kernelspec": {
   "display_name": "Python 3",
   "language": "python",
   "name": "python3"
  },
  "language_info": {
   "codemirror_mode": {
    "name": "ipython",
    "version": 3
   },
   "file_extension": ".py",
   "mimetype": "text/x-python",
   "name": "python",
   "nbconvert_exporter": "python",
   "pygments_lexer": "ipython3",
   "version": "3.9.5"
  },
  "orig_nbformat": 4
 },
 "nbformat": 4,
 "nbformat_minor": 2
}
