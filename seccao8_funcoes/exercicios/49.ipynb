{
 "cells": [
  {
   "attachments": {},
   "cell_type": "markdown",
   "metadata": {},
   "source": [
    "# Matriz - Devolve diagonal inferior\n",
    "\n",
    "Faça uma função que receba uma matriz de 3 x 3 elementos. Calcule e retorne a soma dos elementos que estão abaixo da diagonal principal."
   ]
  },
  {
   "cell_type": "code",
   "execution_count": 27,
   "metadata": {},
   "outputs": [],
   "source": [
    "import numpy as np"
   ]
  },
  {
   "cell_type": "code",
   "execution_count": 28,
   "metadata": {},
   "outputs": [],
   "source": [
    "def devolve_diagonal_inferior (matriz): \n",
    "    diagonal_inferior = np.tril(matriz, k=-1) # k=-1 para a diagonal inferior\n",
    "    indices = np.nonzero(diagonal_inferior) # retorna os indices dos elementos diferentes de zero\n",
    "    return diagonal_inferior[indices] # retorna os elementos diferentes de zero"
   ]
  },
  {
   "cell_type": "code",
   "execution_count": 29,
   "metadata": {},
   "outputs": [
    {
     "name": "stdout",
     "output_type": "stream",
     "text": [
      "[[69 80 70]\n",
      " [ 1 37  2]\n",
      " [61 35  7]]\n"
     ]
    }
   ],
   "source": [
    "matriz = np.random.randint(100, size=(3, 3))\n",
    "print(matriz)"
   ]
  },
  {
   "cell_type": "code",
   "execution_count": 30,
   "metadata": {},
   "outputs": [
    {
     "name": "stdout",
     "output_type": "stream",
     "text": [
      "[ 1 61 35]\n"
     ]
    }
   ],
   "source": [
    "print(devolve_diagonal_inferior(matriz))"
   ]
  }
 ],
 "metadata": {
  "kernelspec": {
   "display_name": "Python 3",
   "language": "python",
   "name": "python3"
  },
  "language_info": {
   "codemirror_mode": {
    "name": "ipython",
    "version": 3
   },
   "file_extension": ".py",
   "mimetype": "text/x-python",
   "name": "python",
   "nbconvert_exporter": "python",
   "pygments_lexer": "ipython3",
   "version": "3.9.5"
  },
  "orig_nbformat": 4
 },
 "nbformat": 4,
 "nbformat_minor": 2
}
