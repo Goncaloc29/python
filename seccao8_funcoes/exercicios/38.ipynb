{
 "cells": [
  {
   "attachments": {},
   "cell_type": "markdown",
   "metadata": {},
   "source": [
    "# Fatorial exponencial de um numero\n",
    "\n",
    "Faça uma função não-recursiva que receba um número inteiro positivo n e retorne o fatorial exponencial desse número. Um fatorial exponencial é um inteiro positivo n elevado á potência de n - 1, que por sua vez é elevado à potência de n -2 e assim em diante."
   ]
  },
  {
   "cell_type": "code",
   "execution_count": 1,
   "metadata": {},
   "outputs": [],
   "source": [
    "import numpy as np\n"
   ]
  },
  {
   "cell_type": "code",
   "execution_count": 4,
   "metadata": {},
   "outputs": [],
   "source": [
    "def fatorial_exponencial(numero):    \n",
    "    if numero <= 0: # se o numero for menor ou igual a 0\n",
    "        raise ValueError(\"O numero deve ser positivo!\")\n",
    "    \n",
    "    resultado = numero \n",
    "\n",
    "    for i in range(numero-2, -1, -1): # i recebe numero-2, enquanto i for maior ou igual a 0(dai colocar -1 para ele chegar a 0, se colocasse 0 ele parava no 1), i recebe i-1\n",
    "        resultado = resultado ** (i+1) # resultado recebe resultado elevado a i+1\n",
    "    \n",
    "    return resultado"
   ]
  },
  {
   "cell_type": "code",
   "execution_count": 5,
   "metadata": {},
   "outputs": [
    {
     "name": "stdout",
     "output_type": "stream",
     "text": [
      "59604644775390625\n"
     ]
    }
   ],
   "source": [
    "print(fatorial_exponencial(5))"
   ]
  }
 ],
 "metadata": {
  "kernelspec": {
   "display_name": "Python 3",
   "language": "python",
   "name": "python3"
  },
  "language_info": {
   "codemirror_mode": {
    "name": "ipython",
    "version": 3
   },
   "file_extension": ".py",
   "mimetype": "text/x-python",
   "name": "python",
   "nbconvert_exporter": "python",
   "pygments_lexer": "ipython3",
   "version": "3.9.5"
  },
  "orig_nbformat": 4
 },
 "nbformat": 4,
 "nbformat_minor": 2
}
