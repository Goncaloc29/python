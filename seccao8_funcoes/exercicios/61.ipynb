{
 "cells": [
  {
   "attachments": {},
   "cell_type": "markdown",
   "metadata": {},
   "source": [
    "# Anagrama\n",
    "\n",
    "Escreva uma função que compare e retorne verdadeiro, caso uma string seja anagrama da outra, e falso, caso contrario.\n",
    "\n",
    "Uma string é um anagrama de outra string quando ambas as strings contêm as mesmas letras, mas em ordem diferente. Em outras palavras, as duas strings podem ser reorganizadas de forma a produzir exatamente as mesmas letras na mesma quantidade."
   ]
  },
  {
   "cell_type": "code",
   "execution_count": 2,
   "metadata": {},
   "outputs": [],
   "source": [
    "def anagrama(s1, s2):\n",
    "    s1 = s1.lower()                 # converte para minusculas\n",
    "    s2 = s2.lower()                 # converte para minusculas\n",
    "    if sorted(s1) == sorted(s2):    # ordena as strings e compara\n",
    "        return True                 # se forem iguais retorna True\n",
    "    else:\n",
    "        return False                # se forem diferentes retorna False"
   ]
  },
  {
   "cell_type": "code",
   "execution_count": 4,
   "metadata": {},
   "outputs": [
    {
     "name": "stdout",
     "output_type": "stream",
     "text": [
      "As palavras não são anagramas\n"
     ]
    }
   ],
   "source": [
    "palavra1 = input(\"Digite a primeira palavra: \")     # entrada de dados\n",
    "palavra2 = input(\"Digite a segunda palavra: \")      # entrada de dados\n",
    "if anagrama(palavra1, palavra2):                    # chama a função\n",
    "    print(\"As palavras são anagramas\")              # imprime a mensagem\n",
    "else:\n",
    "    print(\"As palavras não são anagramas\")          # imprime a mensagem"
   ]
  }
 ],
 "metadata": {
  "kernelspec": {
   "display_name": "Python 3",
   "language": "python",
   "name": "python3"
  },
  "language_info": {
   "codemirror_mode": {
    "name": "ipython",
    "version": 3
   },
   "file_extension": ".py",
   "mimetype": "text/x-python",
   "name": "python",
   "nbconvert_exporter": "python",
   "pygments_lexer": "ipython3",
   "version": "3.9.5"
  },
  "orig_nbformat": 4
 },
 "nbformat": 4,
 "nbformat_minor": 2
}
