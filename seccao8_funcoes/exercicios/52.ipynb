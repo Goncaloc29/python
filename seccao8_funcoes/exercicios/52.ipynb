{
 "cells": [
  {
   "attachments": {},
   "cell_type": "markdown",
   "metadata": {},
   "source": [
    "# Matriz transporta\n",
    "\n",
    "Escreva uma função que recebe uma matriz quadrada de ordem N e calcule a sua transposta (se B é a matriz transposta de A então aij = bji)."
   ]
  },
  {
   "cell_type": "code",
   "execution_count": 4,
   "metadata": {},
   "outputs": [],
   "source": [
    "import numpy as np"
   ]
  },
  {
   "cell_type": "code",
   "execution_count": 5,
   "metadata": {},
   "outputs": [],
   "source": [
    "def transposta(matriz):\n",
    "    matriz_transposta = matriz.T\n",
    "    return matriz_transposta"
   ]
  },
  {
   "cell_type": "code",
   "execution_count": 6,
   "metadata": {},
   "outputs": [
    {
     "name": "stdout",
     "output_type": "stream",
     "text": [
      "3\n"
     ]
    }
   ],
   "source": [
    "n = int(input(\"Introuza um valor para a sua matriz: \"))\n",
    "print(n)"
   ]
  },
  {
   "cell_type": "code",
   "execution_count": 7,
   "metadata": {},
   "outputs": [
    {
     "name": "stdout",
     "output_type": "stream",
     "text": [
      "[[58  6 94]\n",
      " [95  1 71]\n",
      " [89 86 96]]\n"
     ]
    }
   ],
   "source": [
    "matriz = np.random.randint(100, size=(n, n))\n",
    "print(matriz)"
   ]
  },
  {
   "cell_type": "code",
   "execution_count": 9,
   "metadata": {},
   "outputs": [
    {
     "name": "stdout",
     "output_type": "stream",
     "text": [
      "A matriz transposta é:\n",
      "[[58 95 89]\n",
      " [ 6  1 86]\n",
      " [94 71 96]]\n"
     ]
    }
   ],
   "source": [
    "print(\"A matriz transposta é:\")\n",
    "print(transposta(matriz))"
   ]
  }
 ],
 "metadata": {
  "kernelspec": {
   "display_name": "Python 3",
   "language": "python",
   "name": "python3"
  },
  "language_info": {
   "codemirror_mode": {
    "name": "ipython",
    "version": 3
   },
   "file_extension": ".py",
   "mimetype": "text/x-python",
   "name": "python",
   "nbconvert_exporter": "python",
   "pygments_lexer": "ipython3",
   "version": "3.9.5"
  },
  "orig_nbformat": 4
 },
 "nbformat": 4,
 "nbformat_minor": 2
}
