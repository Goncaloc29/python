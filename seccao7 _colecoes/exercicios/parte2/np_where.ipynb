{
 "cells": [
  {
   "attachments": {},
   "cell_type": "markdown",
   "metadata": {},
   "source": [
    "Usando np.where e criando matriz de zeros como tamanho incógnito.\n"
   ]
  },
  {
   "cell_type": "code",
   "execution_count": 9,
   "metadata": {},
   "outputs": [
    {
     "name": "stdout",
     "output_type": "stream",
     "text": [
      "[(0, 0), (1, 1), (2, 1)]\n",
      "(array([0, 1, 2]), array([0, 1, 1]))\n"
     ]
    }
   ],
   "source": [
    "import numpy as np # \n",
    "\n",
    "arr = np.array([[5, 2, 3], [4, 5, 6], [7, 5, 9]])\n",
    "x = 5\n",
    "\n",
    "posicoes = np.where(arr == x)\n",
    "print(list(zip(posicoes[0], posicoes[1])))\n",
    "print(posicoes)"
   ]
  },
  {
   "cell_type": "code",
   "execution_count": 21,
   "metadata": {},
   "outputs": [
    {
     "name": "stdout",
     "output_type": "stream",
     "text": [
      "[[0 0 0 0]\n",
      " [0 0 0 0]\n",
      " [0 0 0 0]\n",
      " [0 0 0 0]\n",
      " [0 0 0 0]\n",
      " [0 0 0 0]\n",
      " [0 0 0 0]\n",
      " [0 0 0 0]\n",
      " [0 0 0 0]\n",
      " [0 0 0 0]]\n"
     ]
    }
   ],
   "source": [
    "x = 10 # ou qualquer outro valor desejado\n",
    "y = 4 # ou qualquer outro valor desejado\n",
    "matriz = np.zeros((x, y), dtype=int)\n",
    "\n",
    "\n",
    "print(matriz)"
   ]
  }
 ],
 "metadata": {
  "kernelspec": {
   "display_name": "Python 3",
   "language": "python",
   "name": "python3"
  },
  "language_info": {
   "codemirror_mode": {
    "name": "ipython",
    "version": 3
   },
   "file_extension": ".py",
   "mimetype": "text/x-python",
   "name": "python",
   "nbconvert_exporter": "python",
   "pygments_lexer": "ipython3",
   "version": "3.9.5"
  },
  "orig_nbformat": 4
 },
 "nbformat": 4,
 "nbformat_minor": 2
}
