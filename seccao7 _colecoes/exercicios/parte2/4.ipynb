{
 "cells": [
  {
   "attachments": {},
   "cell_type": "markdown",
   "metadata": {},
   "source": [
    "# Procurar valor maior em matriz\n",
    "\n",
    "Leia uma matriz 4 x 4, imprima a matriz e retorne a localização (linha e a coluna) do maior valor"
   ]
  },
  {
   "cell_type": "code",
   "execution_count": 5,
   "metadata": {},
   "outputs": [],
   "source": [
    "import numpy as np"
   ]
  },
  {
   "cell_type": "code",
   "execution_count": 6,
   "metadata": {},
   "outputs": [
    {
     "name": "stdout",
     "output_type": "stream",
     "text": [
      "[[0 0 0 0]\n",
      " [0 0 0 0]\n",
      " [0 0 0 0]\n",
      " [0 0 0 0]]\n"
     ]
    }
   ],
   "source": [
    "matriz = np.zeros((4, 4), dtype=int)\n",
    "print(matriz)"
   ]
  },
  {
   "cell_type": "code",
   "execution_count": 7,
   "metadata": {},
   "outputs": [
    {
     "name": "stdout",
     "output_type": "stream",
     "text": [
      "[[      45       45       78       95]\n",
      " [      84       87      556       26]\n",
      " [      46       45       56     1521]\n",
      " [15151515    15456      546      552]]\n"
     ]
    }
   ],
   "source": [
    "# Loop para preencher a matriz com valores do usuário\n",
    "for i in range(4):\n",
    "    for j in range(4):\n",
    "        # Use o input para ler o valor do usuário e adicioná-lo à matriz\n",
    "        elemento = int(input(\"Insira o elemento da posição [{}][{}]: \".format(i, j)))\n",
    "        matriz[i][j] = elemento\n",
    "\n",
    "print(matriz)"
   ]
  },
  {
   "cell_type": "code",
   "execution_count": 8,
   "metadata": {},
   "outputs": [
    {
     "name": "stdout",
     "output_type": "stream",
     "text": [
      "15151515\n"
     ]
    }
   ],
   "source": [
    "# Use a função amax para localizar o maior valor na matriz\n",
    "maior_valor = np.amax(matriz)\n",
    "\n",
    "# Imprime o maior valor na matriz\n",
    "print(maior_valor)"
   ]
  },
  {
   "cell_type": "code",
   "execution_count": 10,
   "metadata": {},
   "outputs": [
    {
     "name": "stdout",
     "output_type": "stream",
     "text": [
      "O maior valor está na linha 4 e coluna 1\n"
     ]
    }
   ],
   "source": [
    "# Use a função argmax para localizar o índice do maior valor na matriz\n",
    "indice_maior_valor = np.argmax(matriz)\n",
    "\n",
    "# Converte o índice em um par (linha, coluna)\n",
    "linha, coluna = np.unravel_index(indice_maior_valor, matriz.shape)\n",
    "\n",
    "# Imprime a localização do maior valor na matriz\n",
    "print(\"O maior valor está na linha {} e coluna {}\".format(linha + 1, coluna + 1))"
   ]
  }
 ],
 "metadata": {
  "kernelspec": {
   "display_name": "Python 3",
   "language": "python",
   "name": "python3"
  },
  "language_info": {
   "codemirror_mode": {
    "name": "ipython",
    "version": 3
   },
   "file_extension": ".py",
   "mimetype": "text/x-python",
   "name": "python",
   "nbconvert_exporter": "python",
   "pygments_lexer": "ipython3",
   "version": "3.9.5"
  },
  "orig_nbformat": 4
 },
 "nbformat": 4,
 "nbformat_minor": 2
}
