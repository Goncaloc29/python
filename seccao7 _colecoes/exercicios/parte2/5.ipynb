{
 "cells": [
  {
   "attachments": {},
   "cell_type": "markdown",
   "metadata": {},
   "source": [
    "# Procurar valor em matriz\n",
    "\n",
    "Leia uma matriz 5 x 5 sem valores repetidos. Leia também um valor X . O programa deverá fazer uma busca desse valor na matriz e, ao final, escrever a localização (linha e coluna) ou uma mensagem de ' nao encontrado”."
   ]
  },
  {
   "cell_type": "code",
   "execution_count": 11,
   "metadata": {},
   "outputs": [],
   "source": [
    "import numpy as np"
   ]
  },
  {
   "cell_type": "code",
   "execution_count": 22,
   "metadata": {},
   "outputs": [
    {
     "name": "stdout",
     "output_type": "stream",
     "text": [
      "[[0 0 0]\n",
      " [0 0 0]\n",
      " [0 0 0]]\n"
     ]
    }
   ],
   "source": [
    "# definição da matriz\n",
    "matriz = np.zeros((3, 3), dtype=int)\n",
    "print(matriz)"
   ]
  },
  {
   "cell_type": "code",
   "execution_count": 20,
   "metadata": {},
   "outputs": [
    {
     "name": "stdout",
     "output_type": "stream",
     "text": [
      "4\n"
     ]
    }
   ],
   "source": [
    "x = int(input(\"Introduza um valor para buscar na Matriz: \"))\n",
    "print(x)"
   ]
  },
  {
   "cell_type": "code",
   "execution_count": 23,
   "metadata": {},
   "outputs": [
    {
     "name": "stdout",
     "output_type": "stream",
     "text": [
      "Esse valor já foi inserido. Insira outro valor.\n",
      "Esse valor já foi inserido. Insira outro valor.\n",
      "Esse valor já foi inserido. Insira outro valor.\n",
      "[[ 12  15  45]\n",
      " [ 64 456  84]\n",
      " [ 94  97   4]]\n"
     ]
    }
   ],
   "source": [
    "# Preencher a matriz com valores do usuário\n",
    "for i in range(len(matriz)):\n",
    "    for j in range(len(matriz)):\n",
    "        valor = int(input(\"Introduza um valor para a posição {}x{}\".format(i + 1, j + 1)))\n",
    "        # Controlo para verificar se o valor introduzido já está na matriz\n",
    "        while valor in matriz:\n",
    "            print(\"Esse valor já foi inserido. Insira outro valor.\")\n",
    "            valor = int(input(\"Insira um valor para a posição ({}x{}): \".format(i + 1, j + 1)))\n",
    "        \n",
    "        matriz[i][j] = valor\n",
    "\n",
    "print(matriz)"
   ]
  },
  {
   "cell_type": "code",
   "execution_count": 24,
   "metadata": {},
   "outputs": [
    {
     "name": "stdout",
     "output_type": "stream",
     "text": [
      "O valor 4 foi encontrado na linha 3 e coluna 3\n"
     ]
    }
   ],
   "source": [
    "# procurar por x na matriz\n",
    "encontrado = False\n",
    "\n",
    "for i in range(len(matriz)):\n",
    "    for j in range(len(matriz)):\n",
    "        if matriz[i][j] == x:\n",
    "            print(\"O valor {} foi encontrado na linha {} e coluna {}\".format(x, i + 1, j + 1))\n",
    "            encontrado = True\n",
    "            break\n",
    "    if encontrado:\n",
    "        break\n",
    "\n",
    "# Se o valor não for encontrado, imprima uma mensagem de erro\n",
    "if not encontrado:\n",
    "    print(\"O valor {} não foi encontrado na matriz.\".format(x))\n"
   ]
  }
 ],
 "metadata": {
  "kernelspec": {
   "display_name": "Python 3",
   "language": "python",
   "name": "python3"
  },
  "language_info": {
   "codemirror_mode": {
    "name": "ipython",
    "version": 3
   },
   "file_extension": ".py",
   "mimetype": "text/x-python",
   "name": "python",
   "nbconvert_exporter": "python",
   "pygments_lexer": "ipython3",
   "version": "3.9.5"
  },
  "orig_nbformat": 4
 },
 "nbformat": 4,
 "nbformat_minor": 2
}
