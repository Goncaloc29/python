{
 "cells": [
  {
   "attachments": {},
   "cell_type": "markdown",
   "metadata": {},
   "source": [
    "# **Matriz 3 x 3**\n",
    "\n",
    "Leia uma matriz de 3 x 3 elementos. Calcule a soma dos elementos que estão acima da diagonal principal."
   ]
  },
  {
   "cell_type": "code",
   "execution_count": 23,
   "metadata": {},
   "outputs": [],
   "source": [
    "import numpy as np"
   ]
  },
  {
   "cell_type": "code",
   "execution_count": 24,
   "metadata": {},
   "outputs": [
    {
     "name": "stdout",
     "output_type": "stream",
     "text": [
      "[[0 0 0]\n",
      " [0 0 0]\n",
      " [0 0 0]]\n"
     ]
    }
   ],
   "source": [
    "matriz = np.zeros((3, 3), dtype=int)\n",
    "print(matriz)"
   ]
  },
  {
   "cell_type": "code",
   "execution_count": 25,
   "metadata": {},
   "outputs": [
    {
     "name": "stdout",
     "output_type": "stream",
     "text": [
      "[[1 2 3]\n",
      " [4 5 6]\n",
      " [7 8 9]]\n"
     ]
    }
   ],
   "source": [
    "# Loop para preencher a matriz com valores do usuário\n",
    "for i in range(3):\n",
    "    for j in range(3):\n",
    "        # Use o input para ler o valor do usuário e adicioná-lo à matriz\n",
    "        elemento = int(input(\"Insira o elemento da posição [{}][{}]: \".format(i, j)))\n",
    "        matriz[i][j] = elemento\n",
    "\n",
    "print(matriz)"
   ]
  },
  {
   "cell_type": "code",
   "execution_count": 26,
   "metadata": {},
   "outputs": [
    {
     "name": "stdout",
     "output_type": "stream",
     "text": [
      "[[0 2 3]\n",
      " [0 0 6]\n",
      " [0 0 0]]\n"
     ]
    }
   ],
   "source": [
    "# Use a função triu para acessar os elementos acima da diagonal principal\n",
    "elementos_acima_diagonal = np.triu(matriz, k=1)\n",
    "\n",
    "print(elementos_acima_diagonal)"
   ]
  },
  {
   "cell_type": "code",
   "execution_count": 27,
   "metadata": {},
   "outputs": [
    {
     "name": "stdout",
     "output_type": "stream",
     "text": [
      "11\n"
     ]
    }
   ],
   "source": [
    "# Use a função sum para somar os elementos acima da diagonal principal\n",
    "soma_acima_diagonal = np.sum(elementos_acima_diagonal)\n",
    "\n",
    "# Imprime a soma dos elementos acima da diagonal principal\n",
    "print(soma_acima_diagonal)"
   ]
  }
 ],
 "metadata": {
  "kernelspec": {
   "display_name": "Python 3",
   "language": "python",
   "name": "python3"
  },
  "language_info": {
   "codemirror_mode": {
    "name": "ipython",
    "version": 3
   },
   "file_extension": ".py",
   "mimetype": "text/x-python",
   "name": "python",
   "nbconvert_exporter": "python",
   "pygments_lexer": "ipython3",
   "version": "3.9.5"
  },
  "orig_nbformat": 4
 },
 "nbformat": 4,
 "nbformat_minor": 2
}
